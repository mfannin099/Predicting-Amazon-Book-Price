{
 "cells": [
  {
   "cell_type": "code",
   "execution_count": 1,
   "metadata": {},
   "outputs": [],
   "source": [
    "##Goal is to predict the price of Amazon Best Sellers using other columns in the dataset\n",
    "#Start whenever, get a chance: Sometime early Decemember"
   ]
  },
  {
   "cell_type": "code",
   "execution_count": 2,
   "metadata": {},
   "outputs": [],
   "source": [
    "import pandas as pd\n",
    "import numpy as np\n",
    "import warnings\n",
    "import matplotlib.pyplot as plt\n",
    "warnings.filterwarnings('ignore')"
   ]
  },
  {
   "cell_type": "code",
   "execution_count": 3,
   "metadata": {},
   "outputs": [],
   "source": [
    "data = pd.read_csv(\"c://Users//Matt//Desktop//dataprojects//machine_learning_7//bestsellers.csv\")"
   ]
  },
  {
   "cell_type": "code",
   "execution_count": 4,
   "metadata": {},
   "outputs": [
    {
     "data": {
      "text/html": [
       "<div>\n",
       "<style scoped>\n",
       "    .dataframe tbody tr th:only-of-type {\n",
       "        vertical-align: middle;\n",
       "    }\n",
       "\n",
       "    .dataframe tbody tr th {\n",
       "        vertical-align: top;\n",
       "    }\n",
       "\n",
       "    .dataframe thead th {\n",
       "        text-align: right;\n",
       "    }\n",
       "</style>\n",
       "<table border=\"1\" class=\"dataframe\">\n",
       "  <thead>\n",
       "    <tr style=\"text-align: right;\">\n",
       "      <th></th>\n",
       "      <th>Name</th>\n",
       "      <th>Author</th>\n",
       "      <th>User Rating</th>\n",
       "      <th>Reviews</th>\n",
       "      <th>Price</th>\n",
       "      <th>Year</th>\n",
       "      <th>Genre</th>\n",
       "    </tr>\n",
       "  </thead>\n",
       "  <tbody>\n",
       "    <tr>\n",
       "      <th>0</th>\n",
       "      <td>10-Day Green Smoothie Cleanse</td>\n",
       "      <td>JJ Smith</td>\n",
       "      <td>4.7</td>\n",
       "      <td>17350</td>\n",
       "      <td>8</td>\n",
       "      <td>2016</td>\n",
       "      <td>Non Fiction</td>\n",
       "    </tr>\n",
       "    <tr>\n",
       "      <th>1</th>\n",
       "      <td>11/22/63: A Novel</td>\n",
       "      <td>Stephen King</td>\n",
       "      <td>4.6</td>\n",
       "      <td>2052</td>\n",
       "      <td>22</td>\n",
       "      <td>2011</td>\n",
       "      <td>Fiction</td>\n",
       "    </tr>\n",
       "    <tr>\n",
       "      <th>2</th>\n",
       "      <td>12 Rules for Life: An Antidote to Chaos</td>\n",
       "      <td>Jordan B. Peterson</td>\n",
       "      <td>4.7</td>\n",
       "      <td>18979</td>\n",
       "      <td>15</td>\n",
       "      <td>2018</td>\n",
       "      <td>Non Fiction</td>\n",
       "    </tr>\n",
       "    <tr>\n",
       "      <th>3</th>\n",
       "      <td>1984 (Signet Classics)</td>\n",
       "      <td>George Orwell</td>\n",
       "      <td>4.7</td>\n",
       "      <td>21424</td>\n",
       "      <td>6</td>\n",
       "      <td>2017</td>\n",
       "      <td>Fiction</td>\n",
       "    </tr>\n",
       "    <tr>\n",
       "      <th>4</th>\n",
       "      <td>5,000 Awesome Facts (About Everything!) (Natio...</td>\n",
       "      <td>National Geographic Kids</td>\n",
       "      <td>4.8</td>\n",
       "      <td>7665</td>\n",
       "      <td>12</td>\n",
       "      <td>2019</td>\n",
       "      <td>Non Fiction</td>\n",
       "    </tr>\n",
       "  </tbody>\n",
       "</table>\n",
       "</div>"
      ],
      "text/plain": [
       "                                                Name  \\\n",
       "0                      10-Day Green Smoothie Cleanse   \n",
       "1                                  11/22/63: A Novel   \n",
       "2            12 Rules for Life: An Antidote to Chaos   \n",
       "3                             1984 (Signet Classics)   \n",
       "4  5,000 Awesome Facts (About Everything!) (Natio...   \n",
       "\n",
       "                     Author  User Rating  Reviews  Price  Year        Genre  \n",
       "0                  JJ Smith          4.7    17350      8  2016  Non Fiction  \n",
       "1              Stephen King          4.6     2052     22  2011      Fiction  \n",
       "2        Jordan B. Peterson          4.7    18979     15  2018  Non Fiction  \n",
       "3             George Orwell          4.7    21424      6  2017      Fiction  \n",
       "4  National Geographic Kids          4.8     7665     12  2019  Non Fiction  "
      ]
     },
     "execution_count": 4,
     "metadata": {},
     "output_type": "execute_result"
    }
   ],
   "source": [
    "##Dataset is Amazon bestselling books from 2014 - 2019\n",
    "\n",
    "books = pd.DataFrame(data)\n",
    "books.head()"
   ]
  },
  {
   "cell_type": "code",
   "execution_count": 26,
   "metadata": {},
   "outputs": [
    {
     "data": {
      "text/plain": [
       "Jeff Kinney                           12\n",
       "Rick Riordan                          11\n",
       "Suzanne Collins                       11\n",
       "Gary Chapman                          11\n",
       "American Psychological Association    10\n",
       "Name: Author, dtype: int64"
      ]
     },
     "execution_count": 26,
     "metadata": {},
     "output_type": "execute_result"
    }
   ],
   "source": [
    "## Seeing who the most common authors are in the dataset\n",
    "\n",
    "books.Author.value_counts().head()"
   ]
  },
  {
   "cell_type": "code",
   "execution_count": 6,
   "metadata": {},
   "outputs": [
    {
     "data": {
      "text/plain": [
       "Author\n",
       "Jill Twiss               4.900000\n",
       "Bill Martin Jr.          4.900000\n",
       "Nathan W. Pyle           4.900000\n",
       "Patrick Thorpe           4.900000\n",
       "Lin-Manuel Miranda       4.900000\n",
       "Sherri Duskey Rinker     4.900000\n",
       "Chip Gaines              4.900000\n",
       "Alice Schertle           4.900000\n",
       "Pete Souza               4.900000\n",
       "Rush Limbaugh            4.900000\n",
       "Emily Winfield Martin    4.900000\n",
       "Sarah Young              4.900000\n",
       "Eric Carle               4.900000\n",
       "Dav Pilkey               4.900000\n",
       "Dr. Seuss                4.877778\n",
       "Mark R. Levin            4.850000\n",
       "J. K. Rowling            4.850000\n",
       "Brandon Stanton          4.833333\n",
       "Marjorie Sarnat          4.800000\n",
       "Paul Kalanithi           4.800000\n",
       "Brené Brown             4.800000\n",
       "Ree Drummond             4.800000\n",
       "Wizards RPG Team         4.800000\n",
       "Raina Telgemeier         4.800000\n",
       "Julia Child              4.800000\n",
       "Name: User Rating, dtype: float64"
      ]
     },
     "execution_count": 6,
     "metadata": {},
     "output_type": "execute_result"
    }
   ],
   "source": [
    "##Top 25 authors, based on highest average user rating\n",
    "\n",
    "i = books.groupby(['Author'])['User Rating'].mean()\n",
    "i.sort_values(ascending = False).head(25)"
   ]
  },
  {
   "cell_type": "code",
   "execution_count": 7,
   "metadata": {},
   "outputs": [
    {
     "data": {
      "text/html": [
       "<div>\n",
       "<style scoped>\n",
       "    .dataframe tbody tr th:only-of-type {\n",
       "        vertical-align: middle;\n",
       "    }\n",
       "\n",
       "    .dataframe tbody tr th {\n",
       "        vertical-align: top;\n",
       "    }\n",
       "\n",
       "    .dataframe thead th {\n",
       "        text-align: right;\n",
       "    }\n",
       "</style>\n",
       "<table border=\"1\" class=\"dataframe\">\n",
       "  <thead>\n",
       "    <tr style=\"text-align: right;\">\n",
       "      <th></th>\n",
       "      <th>User Rating</th>\n",
       "      <th>Reviews</th>\n",
       "      <th>Price</th>\n",
       "      <th>Year</th>\n",
       "    </tr>\n",
       "  </thead>\n",
       "  <tbody>\n",
       "    <tr>\n",
       "      <th>count</th>\n",
       "      <td>550.000000</td>\n",
       "      <td>550.000000</td>\n",
       "      <td>550.000000</td>\n",
       "      <td>550.000000</td>\n",
       "    </tr>\n",
       "    <tr>\n",
       "      <th>mean</th>\n",
       "      <td>4.618364</td>\n",
       "      <td>11953.281818</td>\n",
       "      <td>13.100000</td>\n",
       "      <td>2014.000000</td>\n",
       "    </tr>\n",
       "    <tr>\n",
       "      <th>std</th>\n",
       "      <td>0.226980</td>\n",
       "      <td>11731.132017</td>\n",
       "      <td>10.842262</td>\n",
       "      <td>3.165156</td>\n",
       "    </tr>\n",
       "    <tr>\n",
       "      <th>min</th>\n",
       "      <td>3.300000</td>\n",
       "      <td>37.000000</td>\n",
       "      <td>0.000000</td>\n",
       "      <td>2009.000000</td>\n",
       "    </tr>\n",
       "    <tr>\n",
       "      <th>25%</th>\n",
       "      <td>4.500000</td>\n",
       "      <td>4058.000000</td>\n",
       "      <td>7.000000</td>\n",
       "      <td>2011.000000</td>\n",
       "    </tr>\n",
       "    <tr>\n",
       "      <th>50%</th>\n",
       "      <td>4.700000</td>\n",
       "      <td>8580.000000</td>\n",
       "      <td>11.000000</td>\n",
       "      <td>2014.000000</td>\n",
       "    </tr>\n",
       "    <tr>\n",
       "      <th>75%</th>\n",
       "      <td>4.800000</td>\n",
       "      <td>17253.250000</td>\n",
       "      <td>16.000000</td>\n",
       "      <td>2017.000000</td>\n",
       "    </tr>\n",
       "    <tr>\n",
       "      <th>max</th>\n",
       "      <td>4.900000</td>\n",
       "      <td>87841.000000</td>\n",
       "      <td>105.000000</td>\n",
       "      <td>2019.000000</td>\n",
       "    </tr>\n",
       "  </tbody>\n",
       "</table>\n",
       "</div>"
      ],
      "text/plain": [
       "       User Rating       Reviews       Price         Year\n",
       "count   550.000000    550.000000  550.000000   550.000000\n",
       "mean      4.618364  11953.281818   13.100000  2014.000000\n",
       "std       0.226980  11731.132017   10.842262     3.165156\n",
       "min       3.300000     37.000000    0.000000  2009.000000\n",
       "25%       4.500000   4058.000000    7.000000  2011.000000\n",
       "50%       4.700000   8580.000000   11.000000  2014.000000\n",
       "75%       4.800000  17253.250000   16.000000  2017.000000\n",
       "max       4.900000  87841.000000  105.000000  2019.000000"
      ]
     },
     "execution_count": 7,
     "metadata": {},
     "output_type": "execute_result"
    }
   ],
   "source": [
    "books.describe()"
   ]
  },
  {
   "cell_type": "markdown",
   "metadata": {},
   "source": [
    "## Findings from Describe:\n",
    "\n",
    "### User Reviews: \n",
    "Average review is a 4.6, worst review is a 3.3 and the best is a 4.9 \n",
    " \n",
    "### Reviews:\n",
    "The average number of reviews written about a book is 11,953. The most reviews written on a book is 87,841.\n",
    " \n",
    "### Price:\n",
    "The average price of a book in the dataset is 13 dollars, a standard deviation of 10.82 dollars. The most expensive book in the data set is 105 dollars.\n"
   ]
  },
  {
   "cell_type": "code",
   "execution_count": 8,
   "metadata": {},
   "outputs": [
    {
     "data": {
      "text/plain": [
       "<matplotlib.axes._subplots.AxesSubplot at 0x26831073088>"
      ]
     },
     "execution_count": 8,
     "metadata": {},
     "output_type": "execute_result"
    },
    {
     "data": {
      "image/png": "[encoded data removed]",
      "text/plain": [
       "<Figure size 432x288 with 2 Axes>"
      ]
     },
     "metadata": {
      "needs_background": "light"
     },
     "output_type": "display_data"
    }
   ],
   "source": [
    "import seaborn as sns\n",
    "sns.heatmap(books.corr(),annot=True)"
   ]
  },
  {
   "cell_type": "code",
   "execution_count": 9,
   "metadata": {},
   "outputs": [
    {
     "data": {
      "image/png": "[encoded data removed]",
      "text/plain": [
       "<Figure size 432x432 with 3 Axes>"
      ]
     },
     "metadata": {
      "needs_background": "light"
     },
     "output_type": "display_data"
    }
   ],
   "source": [
    "## PLotting reviews compared to the price of the books with a regression line\n",
    "\n",
    "g = sns.jointplot(data = books, x = 'Reviews', y = 'Price')\n",
    "g = g.plot(sns.regplot, sns.histplot)"
   ]
  },
  {
   "cell_type": "code",
   "execution_count": 10,
   "metadata": {},
   "outputs": [
    {
     "data": {
      "text/html": [
       "<table class=\"simpletable\">\n",
       "<caption>OLS Regression Results</caption>\n",
       "<tr>\n",
       "  <th>Dep. Variable:</th>      <td>Q('Reviews')</td>   <th>  R-squared:         </th> <td>   0.012</td> \n",
       "</tr>\n",
       "<tr>\n",
       "  <th>Model:</th>                   <td>OLS</td>       <th>  Adj. R-squared:    </th> <td>   0.010</td> \n",
       "</tr>\n",
       "<tr>\n",
       "  <th>Method:</th>             <td>Least Squares</td>  <th>  F-statistic:       </th> <td>   6.611</td> \n",
       "</tr>\n",
       "<tr>\n",
       "  <th>Date:</th>             <td>Fri, 27 Nov 2020</td> <th>  Prob (F-statistic):</th>  <td>0.0104</td>  \n",
       "</tr>\n",
       "<tr>\n",
       "  <th>Time:</th>                 <td>23:17:35</td>     <th>  Log-Likelihood:    </th> <td> -5930.1</td> \n",
       "</tr>\n",
       "<tr>\n",
       "  <th>No. Observations:</th>      <td>   550</td>      <th>  AIC:               </th> <td>1.186e+04</td>\n",
       "</tr>\n",
       "<tr>\n",
       "  <th>Df Residuals:</th>          <td>   548</td>      <th>  BIC:               </th> <td>1.187e+04</td>\n",
       "</tr>\n",
       "<tr>\n",
       "  <th>Df Model:</th>              <td>     1</td>      <th>                     </th>     <td> </td>    \n",
       "</tr>\n",
       "<tr>\n",
       "  <th>Covariance Type:</th>      <td>nonrobust</td>    <th>                     </th>     <td> </td>    \n",
       "</tr>\n",
       "</table>\n",
       "<table class=\"simpletable\">\n",
       "<tr>\n",
       "       <td></td>         <th>coef</th>     <th>std err</th>      <th>t</th>      <th>P>|t|</th>  <th>[0.025</th>    <th>0.975]</th>  \n",
       "</tr>\n",
       "<tr>\n",
       "  <th>Intercept</th>  <td>  1.35e+04</td> <td>  780.976</td> <td>   17.287</td> <td> 0.000</td> <td>  1.2e+04</td> <td>  1.5e+04</td>\n",
       "</tr>\n",
       "<tr>\n",
       "  <th>Q('Price')</th> <td> -118.1328</td> <td>   45.944</td> <td>   -2.571</td> <td> 0.010</td> <td> -208.380</td> <td>  -27.886</td>\n",
       "</tr>\n",
       "</table>\n",
       "<table class=\"simpletable\">\n",
       "<tr>\n",
       "  <th>Omnibus:</th>       <td>311.289</td> <th>  Durbin-Watson:     </th> <td>   1.169</td>\n",
       "</tr>\n",
       "<tr>\n",
       "  <th>Prob(Omnibus):</th> <td> 0.000</td>  <th>  Jarque-Bera (JB):  </th> <td>2373.567</td>\n",
       "</tr>\n",
       "<tr>\n",
       "  <th>Skew:</th>          <td> 2.432</td>  <th>  Prob(JB):          </th> <td>    0.00</td>\n",
       "</tr>\n",
       "<tr>\n",
       "  <th>Kurtosis:</th>      <td>11.939</td>  <th>  Cond. No.          </th> <td>    26.7</td>\n",
       "</tr>\n",
       "</table><br/><br/>Warnings:<br/>[1] Standard Errors assume that the covariance matrix of the errors is correctly specified."
      ],
      "text/plain": [
       "<class 'statsmodels.iolib.summary.Summary'>\n",
       "\"\"\"\n",
       "                            OLS Regression Results                            \n",
       "==============================================================================\n",
       "Dep. Variable:           Q('Reviews')   R-squared:                       0.012\n",
       "Model:                            OLS   Adj. R-squared:                  0.010\n",
       "Method:                 Least Squares   F-statistic:                     6.611\n",
       "Date:                Fri, 27 Nov 2020   Prob (F-statistic):             0.0104\n",
       "Time:                        23:17:35   Log-Likelihood:                -5930.1\n",
       "No. Observations:                 550   AIC:                         1.186e+04\n",
       "Df Residuals:                     548   BIC:                         1.187e+04\n",
       "Df Model:                           1                                         \n",
       "Covariance Type:            nonrobust                                         \n",
       "==============================================================================\n",
       "                 coef    std err          t      P>|t|      [0.025      0.975]\n",
       "------------------------------------------------------------------------------\n",
       "Intercept    1.35e+04    780.976     17.287      0.000     1.2e+04     1.5e+04\n",
       "Q('Price')  -118.1328     45.944     -2.571      0.010    -208.380     -27.886\n",
       "==============================================================================\n",
       "Omnibus:                      311.289   Durbin-Watson:                   1.169\n",
       "Prob(Omnibus):                  0.000   Jarque-Bera (JB):             2373.567\n",
       "Skew:                           2.432   Prob(JB):                         0.00\n",
       "Kurtosis:                      11.939   Cond. No.                         26.7\n",
       "==============================================================================\n",
       "\n",
       "Warnings:\n",
       "[1] Standard Errors assume that the covariance matrix of the errors is correctly specified.\n",
       "\"\"\""
      ]
     },
     "execution_count": 10,
     "metadata": {},
     "output_type": "execute_result"
    }
   ],
   "source": [
    "##Building a linear regression model with reviews as the dependent variable and price has the predictor variable\n",
    "\n",
    "import statsmodels.formula.api as smf\n",
    "model1 = smf.ols(\" Q('Reviews') ~ Q('Price') \", data=books).fit()\n",
    "model1.summary()"
   ]
  },
  {
   "cell_type": "code",
   "execution_count": 11,
   "metadata": {},
   "outputs": [
    {
     "data": {
      "text/plain": [
       "<matplotlib.axes._subplots.AxesSubplot at 0x268344bd8c8>"
      ]
     },
     "execution_count": 11,
     "metadata": {},
     "output_type": "execute_result"
    },
    {
     "data": {
      "image/png": "[encoded data removed]",
      "text/plain": [
       "<Figure size 432x288 with 1 Axes>"
      ]
     },
     "metadata": {
      "needs_background": "light"
     },
     "output_type": "display_data"
    }
   ],
   "source": [
    "sns.distplot(books['Price'], color='g', bins = 12)"
   ]
  },
  {
   "cell_type": "markdown",
   "metadata": {},
   "source": [
    "## Beginning to create machine learning model to predict price of book"
   ]
  },
  {
   "cell_type": "code",
   "execution_count": 12,
   "metadata": {},
   "outputs": [
    {
     "data": {
      "text/html": [
       "<div>\n",
       "<style scoped>\n",
       "    .dataframe tbody tr th:only-of-type {\n",
       "        vertical-align: middle;\n",
       "    }\n",
       "\n",
       "    .dataframe tbody tr th {\n",
       "        vertical-align: top;\n",
       "    }\n",
       "\n",
       "    .dataframe thead th {\n",
       "        text-align: right;\n",
       "    }\n",
       "</style>\n",
       "<table border=\"1\" class=\"dataframe\">\n",
       "  <thead>\n",
       "    <tr style=\"text-align: right;\">\n",
       "      <th></th>\n",
       "      <th>Name</th>\n",
       "      <th>Author</th>\n",
       "      <th>User Rating</th>\n",
       "      <th>Reviews</th>\n",
       "      <th>Price</th>\n",
       "      <th>Year</th>\n",
       "      <th>Genre</th>\n",
       "    </tr>\n",
       "  </thead>\n",
       "  <tbody>\n",
       "    <tr>\n",
       "      <th>0</th>\n",
       "      <td>10-Day Green Smoothie Cleanse</td>\n",
       "      <td>JJ Smith</td>\n",
       "      <td>4.7</td>\n",
       "      <td>17350</td>\n",
       "      <td>8</td>\n",
       "      <td>2016</td>\n",
       "      <td>0</td>\n",
       "    </tr>\n",
       "    <tr>\n",
       "      <th>1</th>\n",
       "      <td>11/22/63: A Novel</td>\n",
       "      <td>Stephen King</td>\n",
       "      <td>4.6</td>\n",
       "      <td>2052</td>\n",
       "      <td>22</td>\n",
       "      <td>2011</td>\n",
       "      <td>1</td>\n",
       "    </tr>\n",
       "    <tr>\n",
       "      <th>2</th>\n",
       "      <td>12 Rules for Life: An Antidote to Chaos</td>\n",
       "      <td>Jordan B. Peterson</td>\n",
       "      <td>4.7</td>\n",
       "      <td>18979</td>\n",
       "      <td>15</td>\n",
       "      <td>2018</td>\n",
       "      <td>0</td>\n",
       "    </tr>\n",
       "    <tr>\n",
       "      <th>3</th>\n",
       "      <td>1984 (Signet Classics)</td>\n",
       "      <td>George Orwell</td>\n",
       "      <td>4.7</td>\n",
       "      <td>21424</td>\n",
       "      <td>6</td>\n",
       "      <td>2017</td>\n",
       "      <td>1</td>\n",
       "    </tr>\n",
       "    <tr>\n",
       "      <th>4</th>\n",
       "      <td>5,000 Awesome Facts (About Everything!) (Natio...</td>\n",
       "      <td>National Geographic Kids</td>\n",
       "      <td>4.8</td>\n",
       "      <td>7665</td>\n",
       "      <td>12</td>\n",
       "      <td>2019</td>\n",
       "      <td>0</td>\n",
       "    </tr>\n",
       "  </tbody>\n",
       "</table>\n",
       "</div>"
      ],
      "text/plain": [
       "                                                Name  \\\n",
       "0                      10-Day Green Smoothie Cleanse   \n",
       "1                                  11/22/63: A Novel   \n",
       "2            12 Rules for Life: An Antidote to Chaos   \n",
       "3                             1984 (Signet Classics)   \n",
       "4  5,000 Awesome Facts (About Everything!) (Natio...   \n",
       "\n",
       "                     Author  User Rating  Reviews  Price  Year  Genre  \n",
       "0                  JJ Smith          4.7    17350      8  2016      0  \n",
       "1              Stephen King          4.6     2052     22  2011      1  \n",
       "2        Jordan B. Peterson          4.7    18979     15  2018      0  \n",
       "3             George Orwell          4.7    21424      6  2017      1  \n",
       "4  National Geographic Kids          4.8     7665     12  2019      0  "
      ]
     },
     "execution_count": 12,
     "metadata": {},
     "output_type": "execute_result"
    }
   ],
   "source": [
    "##Make Fiction and non-fiction binary\n",
    "#Code for idea: https://www.kaggle.com/ash316/eda-to-prediction-dietanic\n",
    "\n",
    "# books['genre_group'] = 0 \n",
    "# books.loc[books['Genre'] == 'Fiction','genre_group'] = 1\n",
    "\n",
    "##Another way to do same thing, more effective\n",
    "#Code above in cell, was my thought process. Found a better way to do it from link in cell\n",
    "books['Genre'].replace(['Non Fiction','Fiction'],[0,1],inplace=True)\n",
    "\n",
    "books.head()"
   ]
  },
  {
   "cell_type": "code",
   "execution_count": 13,
   "metadata": {},
   "outputs": [],
   "source": [
    "##Importing everything that might be needed\n",
    "\n",
    "from sklearn.linear_model import LinearRegression\n",
    "from sklearn.compose import ColumnTransformer\n",
    "from sklearn.preprocessing import StandardScaler\n",
    "from sklearn.preprocessing import OneHotEncoder\n",
    "from sklearn.model_selection import train_test_split\n",
    "from sklearn.pipeline import Pipeline\n",
    "from sklearn.impute import SimpleImputer"
   ]
  },
  {
   "cell_type": "code",
   "execution_count": 14,
   "metadata": {},
   "outputs": [],
   "source": [
    "train_set, test_set = train_test_split(books, test_size = .2, random_state = 15)\n",
    "\n",
    "y = pd.DataFrame(train_set['Price'])\n",
    "y2 = pd.DataFrame(test_set['Price'])\n",
    "X = pd.DataFrame(train_set[['User Rating', 'Reviews', 'Year','Genre']])\n",
    "X2 = pd.DataFrame(test_set[['User Rating', 'Reviews', 'Year','Genre']])"
   ]
  },
  {
   "cell_type": "code",
   "execution_count": 15,
   "metadata": {},
   "outputs": [
    {
     "data": {
      "text/plain": [
       "array([ 8,  8,  8,  6,  8,  8, 17,  6, 17,  6,  8,  6,  8,  6,  8,  8,  8,\n",
       "        8,  6,  8,  6,  8,  8,  8, 17,  8,  6,  8, 17,  6,  8, 17,  8,  6,\n",
       "        8,  6,  8,  8,  6, 17,  8,  6,  8, 17, 17,  8,  6, 17,  8, 17,  8,\n",
       "        6,  8,  6,  8, 17,  6,  8,  6, 17,  8,  8,  6, 17,  8,  6,  6,  8,\n",
       "        8,  6,  6,  8,  6,  8,  8,  8,  6,  8,  8,  6, 17,  6,  8,  8, 17,\n",
       "        6,  8,  8,  8, 40, 17,  8,  8,  6,  8,  8,  8,  8,  8, 17,  8,  8,\n",
       "        8,  8,  6,  6,  6, 17,  6,  6], dtype=int64)"
      ]
     },
     "execution_count": 15,
     "metadata": {},
     "output_type": "execute_result"
    }
   ],
   "source": [
    "##Logistic Regression\n",
    "\n",
    "from sklearn.linear_model import LogisticRegression\n",
    "\n",
    "model = LogisticRegression()\n",
    "\n",
    "model.fit(X,y)\n",
    "prediction = model.predict(X2)\n",
    "prediction"
   ]
  },
  {
   "cell_type": "code",
   "execution_count": 16,
   "metadata": {},
   "outputs": [
    {
     "name": "stdout",
     "output_type": "stream",
     "text": [
      "Accuracy of logistic regression: 11.82%\n"
     ]
    }
   ],
   "source": [
    "accuracy = model.score(X2, y2)\n",
    "print(\"Accuracy of logistic regression: %.2f%%\" % (accuracy * 100.0))"
   ]
  },
  {
   "cell_type": "code",
   "execution_count": 17,
   "metadata": {},
   "outputs": [
    {
     "name": "stdout",
     "output_type": "stream",
     "text": [
      "Accuracy of naive bayes: 18.18%\n"
     ]
    }
   ],
   "source": [
    "from sklearn.naive_bayes import GaussianNB\n",
    "\n",
    "model2 = GaussianNB()\n",
    "model2.fit(X, y)\n",
    "prediction2 = model2.predict(X2)\n",
    "\n",
    "accuracy2 = model2.score(X2, y2)\n",
    "print(\"Accuracy of naive bayes: %.2f%%\" % (accuracy2 * 100.0))"
   ]
  },
  {
   "cell_type": "code",
   "execution_count": 18,
   "metadata": {},
   "outputs": [
    {
     "name": "stdout",
     "output_type": "stream",
     "text": [
      "Accuracy of support vector machines: 12.73%\n"
     ]
    }
   ],
   "source": [
    "from sklearn import svm\n",
    "model3 = svm.SVC(gamma=\"scale\",kernel=\"rbf\")\n",
    "model3.fit(X, y)\n",
    "\n",
    "prediction3 = model3.predict(X2)\n",
    "accuracy3 = model3.score(X2, y2)\n",
    "print(\"Accuracy of support vector machines: %.2f%%\" % (accuracy3 * 100.0))"
   ]
  },
  {
   "cell_type": "code",
   "execution_count": 19,
   "metadata": {},
   "outputs": [
    {
     "name": "stdout",
     "output_type": "stream",
     "text": [
      "Squared mean error: 10.5\n"
     ]
    }
   ],
   "source": [
    "##Calculating mean squared error\n",
    "#How far each estimated value is off from actual value\n",
    "#My model is about 8.90 dollars off on each value \n",
    "\n",
    "from sklearn.metrics import mean_squared_error\n",
    "from math import sqrt\n",
    "\n",
    "lin_mse = mean_squared_error(y2, prediction)\n",
    "lin_rmse = np.sqrt(lin_mse)\n",
    "rounded = lin_rmse.round(3)\n",
    "print(\"Squared mean error: \" + str(rounded))"
   ]
  },
  {
   "cell_type": "code",
   "execution_count": 20,
   "metadata": {},
   "outputs": [
    {
     "name": "stdout",
     "output_type": "stream",
     "text": [
      "Accuracy of Voting Classifier: 40.91%\n"
     ]
    }
   ],
   "source": [
    "from sklearn.ensemble import RandomForestClassifier, VotingClassifier\n",
    "from sklearn.svm import SVC\n",
    "\n",
    "## Constructing a voting classifier to try and improve score\n",
    "#Code from: https://www.kaggle.com/fengdanye/machine-learning-6-basic-ensemble-learning\n",
    "\n",
    "rfClf = RandomForestClassifier(n_estimators=500, random_state=10)  \n",
    "svmClf = SVC(probability=True, random_state=10) \n",
    "logClf = LogisticRegression(random_state=10)\n",
    "\n",
    "voting = VotingClassifier(estimators = [('rf',rfClf), ('svm',svmClf), ('log', logClf)], voting='soft') \n",
    "\n",
    "voting.fit(X, y) \n",
    "\n",
    "prediction4 = voting.predict(X2)\n",
    "accuracy4 = voting.score(X2, y2)\n",
    "print(\"Accuracy of Voting Classifier: %.2f%%\" % (accuracy4 * 100.0))"
   ]
  },
  {
   "cell_type": "code",
   "execution_count": 21,
   "metadata": {},
   "outputs": [
    {
     "data": {
      "text/plain": [
       "array([20,  4,  8, 16, 15,  8, 15, 10, 15, 16,  5,  9, 10, 18,  4,  4,  4,\n",
       "        8,  6, 20,  0, 12,  8,  4, 17, 15, 13, 13, 14, 14,  8, 11, 16,  4,\n",
       "        8,  4, 46, 14,  9,  9,  8,  5,  8,  7, 40,  9,  5,  4, 19, 11, 13,\n",
       "       17, 13, 13,  9,  0, 12,  6, 17, 12, 20, 20,  4, 14,  6,  9,  4,  8,\n",
       "       13, 15,  8, 23,  8,  8,  4, 11, 12,  8,  8, 10,  0,  4,  2, 13,  4,\n",
       "        8,  8,  7, 10, 14,  0,  9, 46,  5,  4, 46, 11,  6, 14, 21,  5, 11,\n",
       "        8,  8, 15, 14,  7, 11, 28, 17], dtype=int64)"
      ]
     },
     "execution_count": 21,
     "metadata": {},
     "output_type": "execute_result"
    }
   ],
   "source": [
    "prediction4"
   ]
  },
  {
   "cell_type": "code",
   "execution_count": 22,
   "metadata": {},
   "outputs": [
    {
     "name": "stdout",
     "output_type": "stream",
     "text": [
      "Squared mean error: 6.475\n"
     ]
    }
   ],
   "source": [
    "lin_mse = mean_squared_error(y2, prediction4)\n",
    "lin_rmse = np.sqrt(lin_mse)\n",
    "rounded2 = lin_rmse.round(3)\n",
    "print(\"Squared mean error: \" + str(rounded2))"
   ]
  },
  {
   "cell_type": "code",
   "execution_count": 23,
   "metadata": {},
   "outputs": [
    {
     "name": "stdout",
     "output_type": "stream",
     "text": [
      "Accuracy: 37.95% (+/- 5.77)\n",
      "Scores of the ten tests: [0.38636364 0.34090909 0.38636364 0.38636364 0.40909091 0.38636364\n",
      " 0.36363636 0.40909091 0.31818182 0.40909091]\n"
     ]
    }
   ],
   "source": [
    "from sklearn.model_selection import cross_val_score\n",
    "scores = cross_val_score(voting,X,y, cv=10, n_jobs=-1)\n",
    "print(\"Accuracy: %0.2f%% (+/- %0.2f)\" % (scores.mean()*100, scores.std() * 2*100))\n",
    "print(\"Scores of the ten tests: \" + str(scores))"
   ]
  },
  {
   "cell_type": "code",
   "execution_count": 24,
   "metadata": {},
   "outputs": [
    {
     "data": {
      "image/png": "[encoded data removed]",
      "text/plain": [
       "<Figure size 432x288 with 1 Axes>"
      ]
     },
     "metadata": {
      "needs_background": "light"
     },
     "output_type": "display_data"
    }
   ],
   "source": [
    "plt.hist(scores, bins = 3) \n",
    "plt.xlabel('Data');"
   ]
  },
  {
   "cell_type": "code",
   "execution_count": 30,
   "metadata": {},
   "outputs": [
    {
     "data": {
      "text/html": [
       "<div>\n",
       "<style scoped>\n",
       "    .dataframe tbody tr th:only-of-type {\n",
       "        vertical-align: middle;\n",
       "    }\n",
       "\n",
       "    .dataframe tbody tr th {\n",
       "        vertical-align: top;\n",
       "    }\n",
       "\n",
       "    .dataframe thead th {\n",
       "        text-align: right;\n",
       "    }\n",
       "</style>\n",
       "<table border=\"1\" class=\"dataframe\">\n",
       "  <thead>\n",
       "    <tr style=\"text-align: right;\">\n",
       "      <th></th>\n",
       "      <th>Name</th>\n",
       "      <th>Author</th>\n",
       "      <th>User Rating</th>\n",
       "      <th>Reviews</th>\n",
       "      <th>Price</th>\n",
       "      <th>Year</th>\n",
       "      <th>Genre</th>\n",
       "      <th>id</th>\n",
       "    </tr>\n",
       "  </thead>\n",
       "  <tbody>\n",
       "    <tr>\n",
       "      <th>0</th>\n",
       "      <td>10-Day Green Smoothie Cleanse</td>\n",
       "      <td>JJ Smith</td>\n",
       "      <td>4.7</td>\n",
       "      <td>17350</td>\n",
       "      <td>8</td>\n",
       "      <td>2016</td>\n",
       "      <td>0</td>\n",
       "      <td>114</td>\n",
       "    </tr>\n",
       "    <tr>\n",
       "      <th>1</th>\n",
       "      <td>11/22/63: A Novel</td>\n",
       "      <td>Stephen King</td>\n",
       "      <td>4.6</td>\n",
       "      <td>2052</td>\n",
       "      <td>22</td>\n",
       "      <td>2011</td>\n",
       "      <td>1</td>\n",
       "      <td>219</td>\n",
       "    </tr>\n",
       "    <tr>\n",
       "      <th>2</th>\n",
       "      <td>12 Rules for Life: An Antidote to Chaos</td>\n",
       "      <td>Jordan B. Peterson</td>\n",
       "      <td>4.7</td>\n",
       "      <td>18979</td>\n",
       "      <td>15</td>\n",
       "      <td>2018</td>\n",
       "      <td>0</td>\n",
       "      <td>134</td>\n",
       "    </tr>\n",
       "    <tr>\n",
       "      <th>3</th>\n",
       "      <td>1984 (Signet Classics)</td>\n",
       "      <td>George Orwell</td>\n",
       "      <td>4.7</td>\n",
       "      <td>21424</td>\n",
       "      <td>6</td>\n",
       "      <td>2017</td>\n",
       "      <td>1</td>\n",
       "      <td>95</td>\n",
       "    </tr>\n",
       "    <tr>\n",
       "      <th>4</th>\n",
       "      <td>5,000 Awesome Facts (About Everything!) (Natio...</td>\n",
       "      <td>National Geographic Kids</td>\n",
       "      <td>4.8</td>\n",
       "      <td>7665</td>\n",
       "      <td>12</td>\n",
       "      <td>2019</td>\n",
       "      <td>0</td>\n",
       "      <td>174</td>\n",
       "    </tr>\n",
       "  </tbody>\n",
       "</table>\n",
       "</div>"
      ],
      "text/plain": [
       "                                                Name  \\\n",
       "0                      10-Day Green Smoothie Cleanse   \n",
       "1                                  11/22/63: A Novel   \n",
       "2            12 Rules for Life: An Antidote to Chaos   \n",
       "3                             1984 (Signet Classics)   \n",
       "4  5,000 Awesome Facts (About Everything!) (Natio...   \n",
       "\n",
       "                     Author  User Rating  Reviews  Price  Year  Genre   id  \n",
       "0                  JJ Smith          4.7    17350      8  2016      0  114  \n",
       "1              Stephen King          4.6     2052     22  2011      1  219  \n",
       "2        Jordan B. Peterson          4.7    18979     15  2018      0  134  \n",
       "3             George Orwell          4.7    21424      6  2017      1   95  \n",
       "4  National Geographic Kids          4.8     7665     12  2019      0  174  "
      ]
     },
     "execution_count": 30,
     "metadata": {},
     "output_type": "execute_result"
    }
   ],
   "source": [
    "##Trying to improve the model more. Creating an ID for each author and adding it to the prediction\n",
    "# Code for creating ID's: https://stackoverflow.com/questions/45685254/q-pandas-how-to-efficiently-assign-unique-id-to-individuals-with-multiple-ent\n",
    "\n",
    "books['id'] = books.groupby(['Author']).ngroup()\n",
    "books.head()"
   ]
  },
  {
   "cell_type": "code",
   "execution_count": 42,
   "metadata": {},
   "outputs": [
    {
     "name": "stdout",
     "output_type": "stream",
     "text": [
      "Accuracy of Voting Classifier: 50.91%\n",
      "Squared mean error: 4.993\n"
     ]
    }
   ],
   "source": [
    "train_set, test_set = train_test_split(books, test_size = .2, random_state = 15)\n",
    "\n",
    "X = pd.DataFrame(train_set[['User Rating', 'Reviews', 'Year','Genre', 'id']])\n",
    "X2 = pd.DataFrame(test_set[['User Rating', 'Reviews', 'Year','Genre', 'id']])\n",
    "\n",
    "rfClf = RandomForestClassifier(n_estimators=500, random_state=10)  \n",
    "svmClf = SVC(probability=True, random_state=10) \n",
    "logClf = LogisticRegression(random_state=10)\n",
    "\n",
    "voting = VotingClassifier(estimators = [('rf',rfClf), ('svm',svmClf), ('log', logClf)], voting='soft') \n",
    "\n",
    "voting.fit(X, y) \n",
    "\n",
    "prediction5 = voting.predict(X2)\n",
    "accuracy5 = voting.score(X2, y2)\n",
    "print(\"Accuracy of Voting Classifier: %.2f%%\" % (accuracy4 * 100.0))\n",
    "\n",
    "lin_mse = mean_squared_error(y2, prediction5)\n",
    "lin_rmse = np.sqrt(lin_mse)\n",
    "rounded = lin_rmse.round(3)\n",
    "print(\"Squared mean error: \" + str(rounded))"
   ]
  },
  {
   "cell_type": "code",
   "execution_count": 36,
   "metadata": {},
   "outputs": [
    {
     "data": {
      "text/plain": [
       "array([12,  4,  8, 16, 13,  8, 14,  6, 16,  9,  5,  9, 10, 16,  4,  4,  4,\n",
       "        8,  6, 20, 14, 12,  8,  8, 15, 15, 13, 13, 15, 14,  8,  1, 16, 10,\n",
       "        8,  4, 46, 20,  9,  9,  8,  6,  8,  4, 40,  9, 13, 15, 19, 11,  6,\n",
       "        6, 13,  4,  6,  6, 12,  6, 28, 12, 10, 20,  5,  9,  6,  9,  4, 30,\n",
       "       13, 14, 14, 23,  8,  8,  4, 11, 12,  8,  8, 10,  5,  4,  2, 15,  6,\n",
       "        7, 12,  7, 10, 11,  9,  8, 46,  5,  8, 46, 11,  6, 14, 21,  5, 11,\n",
       "        8,  8,  9,  7, 12, 11, 28, 17], dtype=int64)"
      ]
     },
     "execution_count": 36,
     "metadata": {},
     "output_type": "execute_result"
    }
   ],
   "source": [
    "prediction5"
   ]
  },
  {
   "cell_type": "code",
   "execution_count": 38,
   "metadata": {},
   "outputs": [
    {
     "data": {
      "text/html": [
       "<div>\n",
       "<style scoped>\n",
       "    .dataframe tbody tr th:only-of-type {\n",
       "        vertical-align: middle;\n",
       "    }\n",
       "\n",
       "    .dataframe tbody tr th {\n",
       "        vertical-align: top;\n",
       "    }\n",
       "\n",
       "    .dataframe thead th {\n",
       "        text-align: right;\n",
       "    }\n",
       "</style>\n",
       "<table border=\"1\" class=\"dataframe\">\n",
       "  <thead>\n",
       "    <tr style=\"text-align: right;\">\n",
       "      <th></th>\n",
       "      <th>Name</th>\n",
       "      <th>Author</th>\n",
       "      <th>User Rating</th>\n",
       "      <th>Reviews</th>\n",
       "      <th>Price</th>\n",
       "      <th>Year</th>\n",
       "      <th>Genre</th>\n",
       "      <th>id</th>\n",
       "      <th>book_id</th>\n",
       "    </tr>\n",
       "  </thead>\n",
       "  <tbody>\n",
       "    <tr>\n",
       "      <th>0</th>\n",
       "      <td>10-Day Green Smoothie Cleanse</td>\n",
       "      <td>JJ Smith</td>\n",
       "      <td>4.7</td>\n",
       "      <td>17350</td>\n",
       "      <td>8</td>\n",
       "      <td>2016</td>\n",
       "      <td>0</td>\n",
       "      <td>114</td>\n",
       "      <td>0</td>\n",
       "    </tr>\n",
       "    <tr>\n",
       "      <th>1</th>\n",
       "      <td>11/22/63: A Novel</td>\n",
       "      <td>Stephen King</td>\n",
       "      <td>4.6</td>\n",
       "      <td>2052</td>\n",
       "      <td>22</td>\n",
       "      <td>2011</td>\n",
       "      <td>1</td>\n",
       "      <td>219</td>\n",
       "      <td>1</td>\n",
       "    </tr>\n",
       "    <tr>\n",
       "      <th>2</th>\n",
       "      <td>12 Rules for Life: An Antidote to Chaos</td>\n",
       "      <td>Jordan B. Peterson</td>\n",
       "      <td>4.7</td>\n",
       "      <td>18979</td>\n",
       "      <td>15</td>\n",
       "      <td>2018</td>\n",
       "      <td>0</td>\n",
       "      <td>134</td>\n",
       "      <td>2</td>\n",
       "    </tr>\n",
       "  </tbody>\n",
       "</table>\n",
       "</div>"
      ],
      "text/plain": [
       "                                      Name              Author  User Rating  \\\n",
       "0            10-Day Green Smoothie Cleanse            JJ Smith          4.7   \n",
       "1                        11/22/63: A Novel        Stephen King          4.6   \n",
       "2  12 Rules for Life: An Antidote to Chaos  Jordan B. Peterson          4.7   \n",
       "\n",
       "   Reviews  Price  Year  Genre   id  book_id  \n",
       "0    17350      8  2016      0  114        0  \n",
       "1     2052     22  2011      1  219        1  \n",
       "2    18979     15  2018      0  134        2  "
      ]
     },
     "execution_count": 38,
     "metadata": {},
     "output_type": "execute_result"
    }
   ],
   "source": [
    "##Trying the same strategy with book and creating an ID for them\n",
    "\n",
    "books['book_id'] = books.groupby(['Name']).ngroup()\n",
    "books.head(3)"
   ]
  },
  {
   "cell_type": "code",
   "execution_count": 43,
   "metadata": {},
   "outputs": [
    {
     "name": "stdout",
     "output_type": "stream",
     "text": [
      "Accuracy of Voting Classifier: 53.64%\n",
      "Squared mean error: 4.727\n"
     ]
    }
   ],
   "source": [
    "train_set, test_set = train_test_split(books, test_size = .2, random_state = 15)\n",
    "\n",
    "X = pd.DataFrame(train_set[['User Rating', 'Reviews', 'Year','Genre', 'id', 'book_id']])\n",
    "X2 = pd.DataFrame(test_set[['User Rating', 'Reviews', 'Year','Genre', 'id', 'book_id']])\n",
    "\n",
    "rfClf = RandomForestClassifier(n_estimators=500, random_state=10)  \n",
    "svmClf = SVC(probability=True, random_state=10) \n",
    "logClf = LogisticRegression(random_state=10)\n",
    "\n",
    "voting = VotingClassifier(estimators = [('rf',rfClf), ('svm',svmClf), ('log', logClf)], voting='soft') \n",
    "\n",
    "voting.fit(X, y) \n",
    "\n",
    "prediction6 = voting.predict(X2)\n",
    "accuracy6 = voting.score(X2, y2)\n",
    "print(\"Accuracy of Voting Classifier: %.2f%%\" % (accuracy6 * 100.0))\n",
    "\n",
    "lin_mse = mean_squared_error(y2, prediction6)\n",
    "lin_rmse = np.sqrt(lin_mse)\n",
    "rounded = lin_rmse.round(3)\n",
    "print(\"Squared mean error: \" + str(rounded))"
   ]
  },
  {
   "cell_type": "code",
   "execution_count": 40,
   "metadata": {},
   "outputs": [
    {
     "data": {
      "text/plain": [
       "array([ 6,  4,  8, 16,  9,  8, 14,  4,  9,  9,  5, 15, 10, 12,  4,  4,  4,\n",
       "        8,  6, 20, 12,  8,  8,  8, 15, 15, 13, 13,  6, 11,  8,  1, 16, 10,\n",
       "        8,  4, 46, 20,  9,  9,  5,  6,  8, 10, 40,  9,  7, 15, 19, 11,  6,\n",
       "        6, 13,  4,  9,  9,  7,  6, 28, 12, 19, 20,  9,  9,  6,  9,  4, 30,\n",
       "       13,  5, 14, 23,  8,  8,  4,  8, 12,  8,  8, 10, 15,  4,  2,  8,  6,\n",
       "        5, 12,  7, 10, 14,  9,  8, 46,  5,  8, 46, 11,  6, 14, 21, 10, 11,\n",
       "        8,  8,  5,  5, 11, 11, 28, 17], dtype=int64)"
      ]
     },
     "execution_count": 40,
     "metadata": {},
     "output_type": "execute_result"
    }
   ],
   "source": [
    "prediction6"
   ]
  }
 ],
 "metadata": {
  "kernelspec": {
   "display_name": "Python 3",
   "language": "python",
   "name": "python3"
  },
  "language_info": {
   "codemirror_mode": {
    "name": "ipython",
    "version": 3
   },
   "file_extension": ".py",
   "mimetype": "text/x-python",
   "name": "python",
   "nbconvert_exporter": "python",
   "pygments_lexer": "ipython3",
   "version": "3.7.6"
  }
 },
 "nbformat": 4,
 "nbformat_minor": 4
}
